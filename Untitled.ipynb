{
 "cells": [
  {
   "cell_type": "code",
   "execution_count": 1,
   "metadata": {},
   "outputs": [],
   "source": [
    "from plangym import AtariEnvironment, ParallelEnvironment\n",
    "from plangym.montezuma import Montezuma"
   ]
  },
  {
   "cell_type": "code",
   "execution_count": 2,
   "metadata": {},
   "outputs": [],
   "source": [
    "env = AtariEnvironment(name=\"MsPacman-v0\", clone_seeds=True, autoreset=True)\n",
    "state, obs = env.reset()\n",
    "env = Montezuma(autoreset=True)\n",
    "state, obs = env.reset()\n",
    "states = [state.copy() for _ in range(10)]\n",
    "actions = [env.action_space.sample() for _ in range(10)]\n",
    "\n",
    "new_States, observs, rewards, ends, infos = env.step_batch(states=states, actions=actions)"
   ]
  },
  {
   "cell_type": "code",
   "execution_count": 3,
   "metadata": {
    "scrolled": true
   },
   "outputs": [
    {
     "data": {
      "text/plain": [
       "(array([247, 60, 6, ..., 1.0, 159.4, 29.0], dtype=object),\n",
       " array([  0. ,   0. ,   1. , 159.4,  29. ,   1. ,   0. ]))"
      ]
     },
     "execution_count": 3,
     "metadata": {},
     "output_type": "execute_result"
    }
   ],
   "source": [
    "state, obs"
   ]
  },
  {
   "cell_type": "code",
   "execution_count": 5,
   "metadata": {},
   "outputs": [
    {
     "data": {
      "text/plain": [
       "1021"
      ]
     },
     "execution_count": 5,
     "metadata": {},
     "output_type": "execute_result"
    }
   ],
   "source": [
    "len(state)"
   ]
  },
  {
   "cell_type": "code",
   "execution_count": 3,
   "metadata": {
    "scrolled": true
   },
   "outputs": [
    {
     "data": {
      "text/plain": [
       "[{'ale.lives': 3,\n",
       "  'lives': 3,\n",
       "  'terminal': False,\n",
       "  'lost_live': False,\n",
       "  'game_end': False},\n",
       " {'ale.lives': 3,\n",
       "  'lives': 3,\n",
       "  'terminal': False,\n",
       "  'lost_live': False,\n",
       "  'game_end': False},\n",
       " {'ale.lives': 3,\n",
       "  'lives': 3,\n",
       "  'terminal': False,\n",
       "  'lost_live': False,\n",
       "  'game_end': False},\n",
       " {'ale.lives': 3,\n",
       "  'lives': 3,\n",
       "  'terminal': False,\n",
       "  'lost_live': False,\n",
       "  'game_end': False},\n",
       " {'ale.lives': 3,\n",
       "  'lives': 3,\n",
       "  'terminal': False,\n",
       "  'lost_live': False,\n",
       "  'game_end': False},\n",
       " {'ale.lives': 3,\n",
       "  'lives': 3,\n",
       "  'terminal': False,\n",
       "  'lost_live': False,\n",
       "  'game_end': False},\n",
       " {'ale.lives': 3,\n",
       "  'lives': 3,\n",
       "  'terminal': False,\n",
       "  'lost_live': False,\n",
       "  'game_end': False},\n",
       " {'ale.lives': 3,\n",
       "  'lives': 3,\n",
       "  'terminal': False,\n",
       "  'lost_live': False,\n",
       "  'game_end': False},\n",
       " {'ale.lives': 3,\n",
       "  'lives': 3,\n",
       "  'terminal': False,\n",
       "  'lost_live': False,\n",
       "  'game_end': False},\n",
       " {'ale.lives': 3,\n",
       "  'lives': 3,\n",
       "  'terminal': False,\n",
       "  'lost_live': False,\n",
       "  'game_end': False}]"
      ]
     },
     "execution_count": 3,
     "metadata": {},
     "output_type": "execute_result"
    }
   ],
   "source": [
    "infos"
   ]
  },
  {
   "cell_type": "code",
   "execution_count": 4,
   "metadata": {},
   "outputs": [],
   "source": [
    "env = ParallelEnvironment(env_class=AtariEnvironment, name=\"MsPacman-v0\",\n",
    "                          clone_seeds=True, autoreset=True, blocking=False)\n",
    "\n",
    "state, obs = env.reset()\n",
    "\n",
    "states = [state.copy() for _ in range(10)]\n",
    "actions = [env.action_space.sample() for _ in range(10)]\n",
    "\n",
    "new_States, observs, rewards, ends, infos = env.step_batch(states=states, actions=actions)"
   ]
  },
  {
   "cell_type": "code",
   "execution_count": 2,
   "metadata": {},
   "outputs": [],
   "source": []
  },
  {
   "cell_type": "code",
   "execution_count": 5,
   "metadata": {},
   "outputs": [],
   "source": [
    "import matplotlib.pyplot as plt\n",
    "%matplotlib inline"
   ]
  },
  {
   "cell_type": "code",
   "execution_count": 3,
   "metadata": {},
   "outputs": [],
   "source": [
    "mon = Montezuma()"
   ]
  },
  {
   "cell_type": "code",
   "execution_count": 4,
   "metadata": {},
   "outputs": [],
   "source": [
    "data = mon.reset()"
   ]
  },
  {
   "cell_type": "code",
   "execution_count": 16,
   "metadata": {},
   "outputs": [
    {
     "data": {
      "text/plain": [
       "array([247, 60, 6, ..., 220, 164, 36], dtype=object)"
      ]
     },
     "execution_count": 16,
     "metadata": {},
     "output_type": "execute_result"
    }
   ],
   "source": [
    "data[0][:1021]"
   ]
  },
  {
   "cell_type": "code",
   "execution_count": 12,
   "metadata": {},
   "outputs": [
    {
     "data": {
      "text/plain": [
       "1037"
      ]
     },
     "execution_count": 12,
     "metadata": {},
     "output_type": "execute_result"
    }
   ],
   "source": [
    "len(mon.env.unwrapped.clone_full_state())"
   ]
  },
  {
   "cell_type": "code",
   "execution_count": 5,
   "metadata": {},
   "outputs": [
    {
     "data": {
      "text/plain": [
       "(array([247, 60, 6, ..., 1.0, 159.4, 29.0], dtype=object),\n",
       " array([  0. ,   0. ,   1. , 159.4,  29. ,   1. ,   1. ]),\n",
       " 0.0,\n",
       " False,\n",
       " {'ale.lives': 6,\n",
       "  'lives': 6,\n",
       "  'terminal': False,\n",
       "  'lost_live': False,\n",
       "  'game_end': False})"
      ]
     },
     "execution_count": 5,
     "metadata": {},
     "output_type": "execute_result"
    }
   ],
   "source": [
    "mon.step(action=0, state=data[0])"
   ]
  },
  {
   "cell_type": "code",
   "execution_count": 6,
   "metadata": {},
   "outputs": [
    {
     "data": {
      "text/plain": [
       "(array([  0. ,   0. ,   1. , 159.4,  29. ,   1. ,   2. ]),\n",
       " 0.0,\n",
       " False,\n",
       " {'ale.lives': 6,\n",
       "  'lives': 6,\n",
       "  'terminal': False,\n",
       "  'lost_live': False,\n",
       "  'game_end': False})"
      ]
     },
     "execution_count": 6,
     "metadata": {},
     "output_type": "execute_result"
    }
   ],
   "source": [
    "mon.step(0)"
   ]
  },
  {
   "cell_type": "code",
   "execution_count": 23,
   "metadata": {},
   "outputs": [
    {
     "data": {
      "text/plain": [
       "array([  0. ,   0. ,   1. , 159.4,  29. ,   1. ,   2. ])"
      ]
     },
     "execution_count": 23,
     "metadata": {},
     "output_type": "execute_result"
    }
   ],
   "source": [
    "np.array(p.tuple + mon._env.room_time)"
   ]
  },
  {
   "cell_type": "code",
   "execution_count": 16,
   "metadata": {},
   "outputs": [
    {
     "data": {
      "text/plain": [
       "(0, 0, 1, 159.4, 29.0)"
      ]
     },
     "execution_count": 16,
     "metadata": {},
     "output_type": "execute_result"
    }
   ],
   "source": [
    "mon.pos.tuple"
   ]
  },
  {
   "cell_type": "code",
   "execution_count": 7,
   "metadata": {},
   "outputs": [
    {
     "data": {
      "text/plain": [
       "True"
      ]
     },
     "execution_count": 7,
     "metadata": {},
     "output_type": "execute_result"
    }
   ],
   "source": [
    "mon.render()"
   ]
  },
  {
   "cell_type": "code",
   "execution_count": 9,
   "metadata": {},
   "outputs": [
    {
     "ename": "AttributeError",
     "evalue": "'MontezumaPosLevel' object has no attribute 'objects'",
     "output_type": "error",
     "traceback": [
      "\u001b[0;31m---------------------------------------------------------------------------\u001b[0m",
      "\u001b[0;31mAttributeError\u001b[0m                            Traceback (most recent call last)",
      "\u001b[0;32m<ipython-input-9-2ba3ab8ea141>\u001b[0m in \u001b[0;36m<module>\u001b[0;34m\u001b[0m\n\u001b[0;32m----> 1\u001b[0;31m \u001b[0;34m[\u001b[0m\u001b[0mmon\u001b[0m\u001b[0;34m.\u001b[0m\u001b[0mpos\u001b[0m\u001b[0;34m.\u001b[0m\u001b[0mx\u001b[0m\u001b[0;34m,\u001b[0m \u001b[0mmon\u001b[0m\u001b[0;34m.\u001b[0m\u001b[0mpos\u001b[0m\u001b[0;34m.\u001b[0m\u001b[0my\u001b[0m\u001b[0;34m,\u001b[0m \u001b[0mmon\u001b[0m\u001b[0;34m.\u001b[0m\u001b[0mpos\u001b[0m\u001b[0;34m.\u001b[0m\u001b[0mobjects\u001b[0m\u001b[0;34m,\u001b[0m \u001b[0mmon\u001b[0m\u001b[0;34m.\u001b[0m\u001b[0mpos\u001b[0m\u001b[0;34m.\u001b[0m\u001b[0mlevel\u001b[0m\u001b[0;34m,\u001b[0m \u001b[0mmon\u001b[0m\u001b[0;34m.\u001b[0m\u001b[0mpos\u001b[0m\u001b[0;34m.\u001b[0m\u001b[0mroom\u001b[0m\u001b[0;34m]\u001b[0m\u001b[0;34m\u001b[0m\u001b[0;34m\u001b[0m\u001b[0m\n\u001b[0m",
      "\u001b[0;31mAttributeError\u001b[0m: 'MontezumaPosLevel' object has no attribute 'objects'"
     ]
    }
   ],
   "source": [
    "[mon.pos.x, mon.pos.y, mon.pos.objects, mon.pos.level, mon.pos.room]"
   ]
  },
  {
   "cell_type": "code",
   "execution_count": 2,
   "metadata": {},
   "outputs": [],
   "source": [
    "import numpy as np\n",
    "from plangym import AtariEnvironment, ParallelEnvironment\n",
    "from plangym.montezuma import MyMontezuma, MontezumaPosLevel\n",
    "class Montezuma(AtariEnvironment):\n",
    "    \n",
    "    def __init__(\n",
    "        self,\n",
    "        n_repeat_action: int = 1,\n",
    "        min_dt: int = 1,\n",
    "        episodic_live: bool = False,\n",
    "        autoreset: bool = True,\n",
    "        *args, **kwargs,\n",
    "    ):\n",
    "\n",
    "        super(Montezuma, self).__init__(name=\"MontezumaRevengeDeterministic-v4\",\n",
    "                                        n_repeat_action=n_repeat_action,\n",
    "                                        clone_seeds=True, min_dt=min_dt, obs_ram=False)\n",
    "        self._env = MyMontezuma(*args, **kwargs,)\n",
    "        self.action_space = self._env.action_space\n",
    "        self.observation_space = self._env.observation_space\n",
    "        self.reward_range = self._env.reward_range\n",
    "        self.metadata = self._env.metadata\n",
    "\n",
    "    def __getattr__(self, item):\n",
    "        return getattr(self._env, item)\n",
    "\n",
    "    @property\n",
    "    def n_actions(self):\n",
    "        return self._env.action_space.n\n",
    "\n",
    "    def get_state(self) -> np.ndarray:\n",
    "        \"\"\"\n",
    "        Recover the internal state of the simulation. If clone seed is False the\n",
    "        environment will be stochastic.\n",
    "        Cloning the full state ensures the environment is deterministic.\n",
    "        \"\"\"\n",
    "        data = self._env.get_restore()\n",
    "        (\n",
    "            full_state,\n",
    "            score,\n",
    "            steps,\n",
    "            pos,\n",
    "            room_time,\n",
    "            ram_death_state,\n",
    "            score_objects,\n",
    "            cur_lives,\n",
    "        ) = data\n",
    "        metadata = np.array([score, steps, room_time, ram_death_state, score_objects, cur_lives])\n",
    "        array = np.concatenate([full_state, metadata, np.array(pos.tuple)])\n",
    "        return array\n",
    "    \n",
    "    def set_state(self, state: np.ndarray):\n",
    "        \"\"\"\n",
    "        Set the internal state of the simulation.\n",
    "\n",
    "        Args:\n",
    "            state: Target state to be set in the environment.\n",
    "\n",
    "        Returns:\n",
    "            None\n",
    "        \"\"\"\n",
    "        pos = MontezumaPosLevel(*state[-5:].tolist())\n",
    "        score, steps, room_time, ram_death_state, score_objects, cur_lives = state[-11:-5].tolist()\n",
    "        full_state = state[:1037].copy().astype(np.uint8)\n",
    "        data = (\n",
    "                full_state,\n",
    "                score,\n",
    "                steps,\n",
    "                pos,\n",
    "                room_time,\n",
    "                ram_death_state,\n",
    "                score_objects,\n",
    "                cur_lives,\n",
    "               )\n",
    "        self._env.restore(data)\n",
    "\n",
    "    def step(\n",
    "        self, action: np.ndarray, state: np.ndarray = None, n_repeat_action: int = None\n",
    "    ) -> tuple:\n",
    "        \"\"\"\n",
    "\n",
    "        Take n_repeat_action simulation steps and make the environment evolve\n",
    "        in multiples of min_dt.\n",
    "        The info dictionary will contain a boolean called 'lost_live' that will\n",
    "        be true if a life was lost during the current step.\n",
    "\n",
    "        Args:\n",
    "            action: Chosen action applied to the environment.\n",
    "            state: Set the environment to the given state before stepping it.\n",
    "            n_repeat_action: Consecutive number of times that the action will be applied.\n",
    "\n",
    "        Returns:\n",
    "            if states is None returns (observs, rewards, ends, infos)\n",
    "            else returns(new_states, observs, rewards, ends, infos)\n",
    "        \"\"\"\n",
    "        n_repeat_action = n_repeat_action if n_repeat_action is not None else self.n_repeat_action\n",
    "        if state is not None:\n",
    "            self.set_state(state)\n",
    "        reward = 0\n",
    "        _end, lost_live = False, False\n",
    "        info = {\"lives\": -1}\n",
    "        terminal = False\n",
    "        game_end = False\n",
    "        for _ in range(int(n_repeat_action)):\n",
    "            for _ in range(self.min_dt):\n",
    "                obs, _reward, _end, _info = self._env.step(action)\n",
    "                _info[\"lives\"] = _info.get(\"ale.lives\", -1)\n",
    "                lost_live = info[\"lives\"] > _info[\"lives\"] or lost_live\n",
    "                game_end = game_end or _end\n",
    "                terminal = terminal or game_end\n",
    "                terminal = terminal or lost_live if self.episodic_life else terminal\n",
    "                info = _info.copy()\n",
    "                reward += _reward\n",
    "                if _end:\n",
    "                    break\n",
    "            if _end:\n",
    "                break\n",
    "        # This allows to get the original values even when using an episodic life environment\n",
    "        info[\"terminal\"] = terminal\n",
    "        info[\"lost_live\"] = lost_live\n",
    "        info[\"game_end\"] = game_end\n",
    "        if state is not None:\n",
    "            new_state = self.get_state()\n",
    "            data = new_state, obs, reward, terminal, info\n",
    "        else:\n",
    "            data = obs, reward, terminal, info\n",
    "        if _end and self.autoreset:\n",
    "            self._env.reset()\n",
    "        return data\n",
    "\n",
    "    def render(self):\n",
    "        \"\"\"Render the environment using OpenGL. This wraps the OpenAI render method.\"\"\"\n",
    "        return self._env.render()"
   ]
  },
  {
   "cell_type": "code",
   "execution_count": null,
   "metadata": {},
   "outputs": [],
   "source": []
  },
  {
   "cell_type": "code",
   "execution_count": 12,
   "metadata": {},
   "outputs": [
    {
     "data": {
      "text/plain": [
       "0.0"
      ]
     },
     "execution_count": 12,
     "metadata": {},
     "output_type": "execute_result"
    }
   ],
   "source": [
    "mon.cur_score"
   ]
  },
  {
   "cell_type": "code",
   "execution_count": 14,
   "metadata": {},
   "outputs": [
    {
     "data": {
      "text/plain": [
       "(1, 3)"
      ]
     },
     "execution_count": 14,
     "metadata": {},
     "output_type": "execute_result"
    }
   ],
   "source": [
    "mon.room_time"
   ]
  },
  {
   "cell_type": "code",
   "execution_count": 15,
   "metadata": {
    "scrolled": true
   },
   "outputs": [
    {
     "data": {
      "text/plain": [
       "array([[[[0, 0, 0]],\n",
       "\n",
       "        [[0, 0, 0]],\n",
       "\n",
       "        [[0, 0, 0]],\n",
       "\n",
       "        ...,\n",
       "\n",
       "        [[0, 0, 0]],\n",
       "\n",
       "        [[0, 0, 0]],\n",
       "\n",
       "        [[0, 0, 0]]],\n",
       "\n",
       "\n",
       "       [[[0, 0, 0]],\n",
       "\n",
       "        [[0, 0, 0]],\n",
       "\n",
       "        [[0, 0, 0]],\n",
       "\n",
       "        ...,\n",
       "\n",
       "        [[0, 0, 0]],\n",
       "\n",
       "        [[0, 0, 0]],\n",
       "\n",
       "        [[0, 0, 0]]],\n",
       "\n",
       "\n",
       "       [[[0, 0, 0]],\n",
       "\n",
       "        [[0, 0, 0]],\n",
       "\n",
       "        [[0, 0, 0]],\n",
       "\n",
       "        ...,\n",
       "\n",
       "        [[0, 0, 0]],\n",
       "\n",
       "        [[0, 0, 0]],\n",
       "\n",
       "        [[0, 0, 0]]],\n",
       "\n",
       "\n",
       "       ...,\n",
       "\n",
       "\n",
       "       [[[0, 0, 0]],\n",
       "\n",
       "        [[0, 0, 0]],\n",
       "\n",
       "        [[0, 0, 0]],\n",
       "\n",
       "        ...,\n",
       "\n",
       "        [[0, 0, 0]],\n",
       "\n",
       "        [[0, 0, 0]],\n",
       "\n",
       "        [[0, 0, 0]]],\n",
       "\n",
       "\n",
       "       [[[0, 0, 0]],\n",
       "\n",
       "        [[0, 0, 0]],\n",
       "\n",
       "        [[0, 0, 0]],\n",
       "\n",
       "        ...,\n",
       "\n",
       "        [[0, 0, 0]],\n",
       "\n",
       "        [[0, 0, 0]],\n",
       "\n",
       "        [[0, 0, 0]]],\n",
       "\n",
       "\n",
       "       [[[0, 0, 0]],\n",
       "\n",
       "        [[0, 0, 0]],\n",
       "\n",
       "        [[0, 0, 0]],\n",
       "\n",
       "        ...,\n",
       "\n",
       "        [[0, 0, 0]],\n",
       "\n",
       "        [[0, 0, 0]],\n",
       "\n",
       "        [[0, 0, 0]]]], dtype=uint8)"
      ]
     },
     "execution_count": 15,
     "metadata": {},
     "output_type": "execute_result"
    }
   ],
   "source": [
    "data[-1]"
   ]
  },
  {
   "cell_type": "code",
   "execution_count": 17,
   "metadata": {},
   "outputs": [
    {
     "data": {
      "text/plain": [
       "<matplotlib.image.AxesImage at 0x7f88ea40cd68>"
      ]
     },
     "execution_count": 17,
     "metadata": {},
     "output_type": "execute_result"
    },
    {
     "data": {
      "image/png": "[encoded data removed]",
      "text/plain": [
       "<Figure size 432x288 with 1 Axes>"
      ]
     },
     "metadata": {
      "needs_background": "light"
     },
     "output_type": "display_data"
    }
   ],
   "source": [
    "plt.imshow(data[-1][:, :, 0])"
   ]
  },
  {
   "cell_type": "code",
   "execution_count": 5,
   "metadata": {},
   "outputs": [
    {
     "data": {
      "text/plain": [
       "array([{'ale.lives': 3, 'lives': 3, 'terminal': False, 'lost_live': False},\n",
       "       {'ale.lives': 3, 'lives': 3, 'terminal': False, 'lost_live': False},\n",
       "       {'ale.lives': 3, 'lives': 3, 'terminal': False, 'lost_live': False},\n",
       "       {'ale.lives': 3, 'lives': 3, 'terminal': False, 'lost_live': False},\n",
       "       {'ale.lives': 3, 'lives': 3, 'terminal': False, 'lost_live': False},\n",
       "       {'ale.lives': 3, 'lives': 3, 'terminal': False, 'lost_live': False},\n",
       "       {'ale.lives': 3, 'lives': 3, 'terminal': False, 'lost_live': False},\n",
       "       {'ale.lives': 3, 'lives': 3, 'terminal': False, 'lost_live': False},\n",
       "       {'ale.lives': 3, 'lives': 3, 'terminal': False, 'lost_live': False},\n",
       "       {'ale.lives': 3, 'lives': 3, 'terminal': False, 'lost_live': False}],\n",
       "      dtype=object)"
      ]
     },
     "execution_count": 5,
     "metadata": {},
     "output_type": "execute_result"
    }
   ],
   "source": [
    "infos"
   ]
  },
  {
   "cell_type": "code",
   "execution_count": 16,
   "metadata": {},
   "outputs": [
    {
     "data": {
      "text/plain": [
       "Level=0 Room=1 Objects=0 x=159.4 y=29.0"
      ]
     },
     "execution_count": 16,
     "metadata": {},
     "output_type": "execute_result"
    }
   ],
   "source": [
    "mon.pos"
   ]
  },
  {
   "cell_type": "code",
   "execution_count": null,
   "metadata": {},
   "outputs": [],
   "source": []
  }
 ],
 "metadata": {
  "kernelspec": {
   "display_name": "Python 3",
   "language": "python",
   "name": "python3"
  },
  "language_info": {
   "codemirror_mode": {
    "name": "ipython",
    "version": 3
   },
   "file_extension": ".py",
   "mimetype": "text/x-python",
   "name": "python",
   "nbconvert_exporter": "python",
   "pygments_lexer": "ipython3",
   "version": "3.6.8"
  }
 },
 "nbformat": 4,
 "nbformat_minor": 2
}
