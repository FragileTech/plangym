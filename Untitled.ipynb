{
 "cells": [
  {
   "cell_type": "code",
   "execution_count": 1,
   "metadata": {},
   "outputs": [],
   "source": [
    "from plangym import AtariEnvironment, ParallelEnvironment"
   ]
  },
  {
   "cell_type": "code",
   "execution_count": 2,
   "metadata": {},
   "outputs": [],
   "source": [
    "env = AtariEnvironment(name=\"MsPacman-v0\", clone_seeds=True, autoreset=True)\n",
    "state, obs = env.reset()\n",
    "\n",
    "states = [state.copy() for _ in range(10)]\n",
    "actions = [env.action_space.sample() for _ in range(10)]\n",
    "\n",
    "new_States, observs, rewards, ends, infos = env.step_batch(states=states, actions=actions)"
   ]
  },
  {
   "cell_type": "code",
   "execution_count": 3,
   "metadata": {},
   "outputs": [
    {
     "data": {
      "text/plain": [
       "[{'ale.lives': 3, 'lives': 3, 'terminal': False, 'lost_live': False},\n",
       " {'ale.lives': 3, 'lives': 3, 'terminal': False, 'lost_live': False},\n",
       " {'ale.lives': 3, 'lives': 3, 'terminal': False, 'lost_live': False},\n",
       " {'ale.lives': 3, 'lives': 3, 'terminal': False, 'lost_live': False},\n",
       " {'ale.lives': 3, 'lives': 3, 'terminal': False, 'lost_live': False},\n",
       " {'ale.lives': 3, 'lives': 3, 'terminal': False, 'lost_live': False},\n",
       " {'ale.lives': 3, 'lives': 3, 'terminal': False, 'lost_live': False},\n",
       " {'ale.lives': 3, 'lives': 3, 'terminal': False, 'lost_live': False},\n",
       " {'ale.lives': 3, 'lives': 3, 'terminal': False, 'lost_live': False},\n",
       " {'ale.lives': 3, 'lives': 3, 'terminal': False, 'lost_live': False}]"
      ]
     },
     "execution_count": 3,
     "metadata": {},
     "output_type": "execute_result"
    }
   ],
   "source": [
    "infos"
   ]
  },
  {
   "cell_type": "code",
   "execution_count": 4,
   "metadata": {},
   "outputs": [],
   "source": [
    "env = ParallelEnvironment(env_class=AtariEnvironment, name=\"MsPacman-v0\",\n",
    "                          clone_seeds=True, autoreset=True, blocking=False)\n",
    "\n",
    "state, obs = env.reset()\n",
    "\n",
    "states = [state.copy() for _ in range(10)]\n",
    "actions = [env.action_space.sample() for _ in range(10)]\n",
    "\n",
    "new_States, observs, rewards, ends, infos = env.step_batch(states=states, actions=actions)"
   ]
  },
  {
   "cell_type": "code",
   "execution_count": null,
   "metadata": {},
   "outputs": [],
   "source": []
  },
  {
   "cell_type": "code",
   "execution_count": 5,
   "metadata": {},
   "outputs": [
    {
     "data": {
      "text/plain": [
       "array([{'ale.lives': 3, 'lives': 3, 'terminal': False, 'lost_live': False},\n",
       "       {'ale.lives': 3, 'lives': 3, 'terminal': False, 'lost_live': False},\n",
       "       {'ale.lives': 3, 'lives': 3, 'terminal': False, 'lost_live': False},\n",
       "       {'ale.lives': 3, 'lives': 3, 'terminal': False, 'lost_live': False},\n",
       "       {'ale.lives': 3, 'lives': 3, 'terminal': False, 'lost_live': False},\n",
       "       {'ale.lives': 3, 'lives': 3, 'terminal': False, 'lost_live': False},\n",
       "       {'ale.lives': 3, 'lives': 3, 'terminal': False, 'lost_live': False},\n",
       "       {'ale.lives': 3, 'lives': 3, 'terminal': False, 'lost_live': False},\n",
       "       {'ale.lives': 3, 'lives': 3, 'terminal': False, 'lost_live': False},\n",
       "       {'ale.lives': 3, 'lives': 3, 'terminal': False, 'lost_live': False}],\n",
       "      dtype=object)"
      ]
     },
     "execution_count": 5,
     "metadata": {},
     "output_type": "execute_result"
    }
   ],
   "source": [
    "infos"
   ]
  },
  {
   "cell_type": "code",
   "execution_count": null,
   "metadata": {},
   "outputs": [],
   "source": []
  }
 ],
 "metadata": {
  "kernelspec": {
   "display_name": "Python 3",
   "language": "python",
   "name": "python3"
  },
  "language_info": {
   "codemirror_mode": {
    "name": "ipython",
    "version": 3
   },
   "file_extension": ".py",
   "mimetype": "text/x-python",
   "name": "python",
   "nbconvert_exporter": "python",
   "pygments_lexer": "ipython3",
   "version": "3.6.7"
  }
 },
 "nbformat": 4,
 "nbformat_minor": 2
}
